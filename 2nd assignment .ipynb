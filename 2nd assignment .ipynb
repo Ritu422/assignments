{
 "cells": [
  {
   "cell_type": "markdown",
   "metadata": {},
   "source": [
    "### Question 1\n",
    "Let two matrices be\n",
    "#### A = \n",
    "$$\n",
    "\\left(\\begin{array}{cc} \n",
    "4 & 3\\\\\n",
    "6 & 9\n",
    "\\end{array}\\right)\n",
    "$$\n",
    "\n",
    "#### B = \n",
    "$$\n",
    "\\left(\\begin{array}{cc} \n",
    "-2 & 9\\\\ \n",
    "-5 & 2\n",
    "\\end{array}\\right)\n",
    "$$\n",
    "\n",
    "What is **A-B**?\n"
   ]
  },
  {
   "cell_type": "code",
   "execution_count": null,
   "metadata": {
    "collapsed": true
   },
   "outputs": [],
   "source": [
    "6 -6\n",
    "11 7"
   ]
  },
  {
   "cell_type": "markdown",
   "metadata": {},
   "source": [
    "### Question 2\n",
    "Let x =\n",
    "$$\n",
    "\\left(\\begin{array}{cc}\n",
    "2\\\\\n",
    "7\\\\\n",
    "4\\\\\n",
    "1\\\\\n",
    "\\end{array}\\right)\n",
    "$$\n",
    "\n",
    "What is **1/2*x**?\n",
    "\n"
   ]
  },
  {
   "cell_type": "code",
   "execution_count": null,
   "metadata": {
    "collapsed": true
   },
   "outputs": [],
   "source": [
    "1  3.5\n",
    "2  0.5\n"
   ]
  },
  {
   "cell_type": "markdown",
   "metadata": {},
   "source": [
    "### Question 3\n",
    "Let u be a 3-dimensional vector, where specifically\n",
    "\n",
    "**u** = \n",
    "$$\n",
    "\\left(\\begin{array}{cc}\n",
    "8\\\\\n",
    "1\\\\\n",
    "4\\\\\n",
    "\\end{array}\\right)\n",
    "$$\n",
    "\n",
    "What is u<sup>t</sup> ?"
   ]
  },
  {
   "cell_type": "code",
   "execution_count": null,
   "metadata": {
    "collapsed": true
   },
   "outputs": [],
   "source": [
    "(8 1 4)"
   ]
  },
  {
   "cell_type": "markdown",
   "metadata": {},
   "source": [
    "### Question 4\n",
    "Let u and v be two 3-dimensional vectors, where specifically\n",
    "\n",
    "**u** = \n",
    "$$\n",
    "\\left(\\begin{array}{cc}\n",
    "1\\\\\n",
    "3\\\\\n",
    "-1\\\\\n",
    "\\end{array}\\right)\n",
    "$$\n",
    "\n",
    "and **v** = \n",
    "$$\n",
    "\\left(\\begin{array}{cc}\n",
    "2\\\\\n",
    "2\\\\\n",
    "4\\\\\n",
    "\\end{array}\\right)\n",
    "$$\n",
    "\n",
    "What is u<sup>t</sup>v?"
   ]
  },
  {
   "cell_type": "code",
   "execution_count": null,
   "metadata": {
    "collapsed": true
   },
   "outputs": [],
   "source": [
    "(2+6-4) =4"
   ]
  },
  {
   "cell_type": "markdown",
   "metadata": {},
   "source": [
    "### Question 5\n",
    "Let A and B be 3X3 (square) matrices. Which of the following must necessarily hold true?\n",
    "\n",
    "a. A\\*B = B\\*A\n",
    "\n",
    "b. If B is a 3X3 identity matrix, then A\\*B = B\\*A\n",
    "\n",
    "c. (A\\*B)\\*A = A\\*(B\\*A)\n",
    "\n",
    "d. If C = A\\*B, then C is a 6*\\6 matrix."
   ]
  },
  {
   "cell_type": "code",
   "execution_count": null,
   "metadata": {
    "collapsed": true
   },
   "outputs": [],
   "source": [
    "c"
   ]
  }
 ],
 "metadata": {
  "kernelspec": {
   "display_name": "Python 2",
   "language": "python",
   "name": "python2"
  },
  "language_info": {
   "codemirror_mode": {
    "name": "ipython",
    "version": 2
   },
   "file_extension": ".py",
   "mimetype": "text/x-python",
   "name": "python",
   "nbconvert_exporter": "python",
   "pygments_lexer": "ipython2",
   "version": "2.7.13"
  }
 },
 "nbformat": 4,
 "nbformat_minor": 2
}
