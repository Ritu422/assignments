{
 "cells": [
  {
   "cell_type": "markdown",
   "metadata": {},
   "source": [
    " Question 1\n",
    "Calculate the sum of squares (SS) of the following set of values using the standard formula for the sum of squares. \n",
    "\n",
    "X = [2.6, 1.9, 3.7, 2.5, 3.1, 2.8]"
   ]
  },
  {
   "cell_type": "code",
   "execution_count": null,
   "metadata": {
    "collapsed": true
   },
   "outputs": [],
   "source": [
    "mean(U)= 16.6/6 =2.76\n",
    "SS = (X-U)^2 = (2.6-2.76)2 = 0.029\n",
    "\n",
    "(1.9-2.76)2 = 0.739\n",
    "\n",
    "(2.5-2.76)2 = 0.067\n",
    "\n",
    "(3.1-2.76)2 = 0.115\n",
    "\n",
    "(3.7-2.76)2 = 0.883\n",
    "\n",
    "(2.8-2.76)2 = 0.001\n",
    "\n",
    "SS = 1.805 \n",
    "\n"
   ]
  },
  {
   "cell_type": "markdown",
   "metadata": {},
   "source": [
    "Question 2\n",
    "If the sample standard deviation of 30 values is 1.79, what is the sum of squares (SS)?"
   ]
  },
  {
   "cell_type": "code",
   "execution_count": null,
   "metadata": {
    "collapsed": true
   },
   "outputs": [],
   "source": [
    "Variance = standard deviation^2=(1.79^2) = 3.2041\n",
    "n=30\n",
    "SS = Variance*(n-1) = 3.2041*29 =92.91"
   ]
  },
  {
   "cell_type": "markdown",
   "metadata": {},
   "source": [
    "Question 3\n",
    "Calculate the mean, median, sum of squares, variance, standard deviation for the following 6 values: \n",
    "\n",
    "X = [16, 22, 11, 14, 13, 31] \n",
    "\n"
   ]
  },
  {
   "cell_type": "code",
   "execution_count": null,
   "metadata": {
    "collapsed": true
   },
   "outputs": [],
   "source": [
    "mean = (16+22+11+14+13+31)/6 = 17.8\n",
    "median =11, 13, 14, 16, 22, 31 = (14+16)/2 = 15\n",
    "SS =(16-17.8)^2 = 3.24\n",
    "    (22-17.8)^2 = 17.64\n",
    "    (11-17.8)^2 = 46.24\n",
    "    (14-17.8)^2 = 14.44\n",
    "    (13-17.8)^2 = 23.04\n",
    "    (31-17.8)^2 = 174.24\n",
    "    SS  = 278.84\n",
    "    n = 6\n",
    "    (n-1)=5\n",
    "    variance = SS/(n-1)\n",
    "    variance = SS/5 =55.76\n",
    "    \n",
    "    stanard deviation = 7.46"
   ]
  }
 ],
 "metadata": {
  "kernelspec": {
   "display_name": "Python 2",
   "language": "python",
   "name": "python2"
  },
  "language_info": {
   "codemirror_mode": {
    "name": "ipython",
    "version": 2
   },
   "file_extension": ".py",
   "mimetype": "text/x-python",
   "name": "python",
   "nbconvert_exporter": "python",
   "pygments_lexer": "ipython2",
   "version": "2.7.13"
  }
 },
 "nbformat": 4,
 "nbformat_minor": 2
}
