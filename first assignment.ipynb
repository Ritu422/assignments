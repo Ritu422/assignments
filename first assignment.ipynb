{
 "cells": [
  {
   "cell_type": "markdown",
   "metadata": {},
   "source": [
    "**Q.** Write code to convert an Integer to string in Python?"
   ]
  },
  {
   "cell_type": "code",
   "execution_count": 3,
   "metadata": {},
   "outputs": [
    {
     "name": "stdout",
     "output_type": "stream",
     "text": [
      "1\n",
      "<type 'int'>\n",
      "<type 'str'>\n"
     ]
    }
   ],
   "source": [
    "a=1\n",
    "print a\n",
    "print type(a)\n",
    "a=str(1)\n",
    "print type (a)"
   ]
  },
  {
   "cell_type": "markdown",
   "metadata": {},
   "source": [
    "**Q.** Given the age of Mr. Robben in a variable **age = 33**, write code to output a string *Age of Mr. Robben is 33 years*. You have to make use of the given variable."
   ]
  },
  {
   "cell_type": "code",
   "execution_count": 7,
   "metadata": {},
   "outputs": [
    {
     "name": "stdout",
     "output_type": "stream",
     "text": [
      "33\n",
      "33\n",
      "age of mr. robben is 33 years\n",
      "age of mr. robben is 33 years \n"
     ]
    }
   ],
   "source": [
    "age=33\n",
    "print age\n",
    "print str(age)\n",
    "print \"age of mr. robben is 33 years\"\n",
    "print \"age of mr. robben is %i years \" %(age)\n"
   ]
  },
  {
   "cell_type": "markdown",
   "metadata": {},
   "source": [
    "**Q.** Write code to input a number and return a string *Poisitive* if the number is greater than zero, *Negative* if the number is less than zero and *Aryabhatta* otherwise. "
   ]
  },
  {
   "cell_type": "code",
   "execution_count": 18,
   "metadata": {},
   "outputs": [
    {
     "name": "stdout",
     "output_type": "stream",
     "text": [
      "1\n",
      "positive\n",
      "aryabhatta\n"
     ]
    }
   ],
   "source": [
    "a=raw_input()\n",
    "if a>0:\n",
    "    print \"positive\"\n",
    "if a<0:\n",
    "    print \"negative\"\n",
    "else:\n",
    "    print \"aryabhatta\""
   ]
  }
 ],
 "metadata": {
  "kernelspec": {
   "display_name": "Python 2",
   "language": "python",
   "name": "python2"
  },
  "language_info": {
   "codemirror_mode": {
    "name": "ipython",
    "version": 2
   },
   "file_extension": ".py",
   "mimetype": "text/x-python",
   "name": "python",
   "nbconvert_exporter": "python",
   "pygments_lexer": "ipython2",
   "version": "2.7.13"
  }
 },
 "nbformat": 4,
 "nbformat_minor": 2
}
